{
 "nbformat": 4,
 "nbformat_minor": 2,
 "metadata": {
  "language_info": {
   "name": "python",
   "codemirror_mode": {
    "name": "ipython",
    "version": 3
   }
  },
  "orig_nbformat": 2,
  "file_extension": ".py",
  "mimetype": "text/x-python",
  "name": "python",
  "npconvert_exporter": "python",
  "pygments_lexer": "ipython3",
  "version": 3
 },
 "cells": [
  {
   "cell_type": "code",
   "execution_count": 1,
   "metadata": {},
   "outputs": [],
   "source": [
    "import os\n",
    "import jieba\n",
    "from sklearn.feature_extraction.text import TfidfVectorizer\n",
    "from sklearn.naive_bayes import MultinomialNB\n",
    "from sklearn import metrics"
   ]
  },
  {
   "cell_type": "code",
   "execution_count": 2,
   "metadata": {},
   "outputs": [],
   "source": [
    "def cut_words(file_path):\n",
    "    text = open(file_path, 'r', encoding='gb18030').read()\n",
    "    textcut = jieba.cut(text)\n",
    "    text_with_spaces = ' '.join(textcut)\n",
    "    return text_with_spaces"
   ]
  },
  {
   "cell_type": "code",
   "execution_count": 3,
   "metadata": {},
   "outputs": [],
   "source": [
    "def loadfile(file_dir, label):\n",
    "    file_list = os.listdir(file_dir)\n",
    "    words_list = []\n",
    "    labels_list = []\n",
    "    for file in file_list:\n",
    "        file_path = file_dir + '\\\\' + file\n",
    "        words_list.append(cut_words(file_path))\n",
    "        labels_list.append(label)\n",
    "    return words_list, labels_list"
   ]
  },
  {
   "cell_type": "code",
   "execution_count": 4,
   "metadata": {},
   "outputs": [
    {
     "name": "stderr",
     "output_type": "stream",
     "text": "Building prefix dict from the default dictionary ...\nDumping model to file cache C:\\Users\\CHENXJ~1\\AppData\\Local\\Temp\\jieba.cache\nLoading model cost 0.971 seconds.\nPrefix dict has been built succesfully.\n"
    }
   ],
   "source": [
    "train_words_list1, train_labels1 = loadfile('201911\\\\20191106\\\\data\\\\train\\\\女性', '女性')\n",
    "train_words_list2, train_labels2 = loadfile('201911\\\\20191106\\\\data\\\\train\\\\体育', '体育')\n",
    "train_words_list3, train_labels3 = loadfile('201911\\\\20191106\\\\data\\\\train\\\\文学', '文学')\n",
    "train_words_list4, train_labels4 = loadfile('201911\\\\20191106\\\\data\\\\train\\\\校园', '校园')"
   ]
  },
  {
   "cell_type": "code",
   "execution_count": 5,
   "metadata": {},
   "outputs": [],
   "source": [
    "train_word_list = train_words_list1 + train_words_list2 + train_words_list3 + train_words_list4\n",
    "train_labels = train_labels1 + train_labels2 + train_labels3 + train_labels4"
   ]
  },
  {
   "cell_type": "code",
   "execution_count": 6,
   "metadata": {},
   "outputs": [],
   "source": [
    "test_words_list1, test_labels1 = loadfile('201911\\\\20191106\\\\data\\\\test\\\\女性', '女性')\n",
    "test_words_list2, test_labels2 = loadfile('201911\\\\20191106\\\\data\\\\test\\\\体育', '体育')\n",
    "test_words_list3, test_labels3 = loadfile('201911\\\\20191106\\\\data\\\\test\\\\文学', '文学')\n",
    "test_words_list4, test_labels4 = loadfile('201911\\\\20191106\\\\data\\\\test\\\\校园', '校园')"
   ]
  },
  {
   "cell_type": "code",
   "execution_count": 7,
   "metadata": {},
   "outputs": [],
   "source": [
    "test_word_list = test_words_list1 + test_words_list2 + test_words_list3 + test_words_list4\n",
    "test_labels = test_labels1 + test_labels2 + test_labels3 + test_labels4"
   ]
  },
  {
   "cell_type": "code",
   "execution_count": 10,
   "metadata": {},
   "outputs": [],
   "source": [
    "stop_words = open('201911\\\\20191106\\\\data\\\\stop\\\\stopword.txt', 'r', encoding='utf-8').read()\n",
    "stop_words = stop_words.encode('utf-8').decode('utf-8-sig')\n",
    "stop_words = stop_words.split('\\n')"
   ]
  },
  {
   "cell_type": "code",
   "execution_count": 11,
   "metadata": {},
   "outputs": [],
   "source": [
    "tf = TfidfVectorizer(stop_words=stop_words, max_df=0.5)\n",
    "train_features = tf.fit_transform(train_word_list)\n",
    "test_features = tf.transform(test_word_list)"
   ]
  },
  {
   "cell_type": "code",
   "execution_count": 12,
   "metadata": {},
   "outputs": [],
   "source": [
    "clf = MultinomialNB(alpha=0.001).fit(train_features, train_labels)\n",
    "predicted_labels = clf.predict(test_features)"
   ]
  },
  {
   "cell_type": "code",
   "execution_count": 13,
   "metadata": {},
   "outputs": [
    {
     "name": "stdout",
     "output_type": "stream",
     "text": "准确率：0.91\n"
    }
   ],
   "source": [
    "score = metrics.accuracy_score(test_labels, predicted_labels)\n",
    "print(f'准确率：{score}')"
   ]
  },
  {
   "cell_type": "code",
   "execution_count": null,
   "metadata": {},
   "outputs": [],
   "source": []
  }
 ]
}